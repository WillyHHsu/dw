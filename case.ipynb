{
 "cells": [
  {
   "cell_type": "markdown",
   "metadata": {},
   "source": [
    "### palavras chaves\n",
    "\n",
    "https://pagar.me/blog/o-que-quer-dizer-psp-no-mercado-de-meios-de-pagamento-online/\n",
    "\n",
    "- Adquirentes - \"maquininha de cartão\" - comunica com o banco.\n",
    "\n",
    "- Intermediadores/subadquirentes -  \"uma pessoa que te aluga uma maquininha de cartão\" - faz sentido pois no ecomerce há mais questões, exemplo fraude, esse cara resolve isso para você. Melhor quando pequeno. Pode abrir uma janela nova para fazer as compras. \"Mó rolê\".\n",
    "\n",
    "- Gateways - entre a maquininha e o cliente, mais barato em escala, mais difícil de implementar. O risco pode ficar com você. A sua página processa o pagamento.\n",
    "\n",
    "- PSP - Parrudo igual gateway, prático como um subadquirente. É um \"gateway com UX\" e podendo ser mais flexível.\n",
    "\n",
    "- chargeback - cancelamento por N motivos; arrependimento até fraude."
   ]
  },
  {
   "cell_type": "code",
   "execution_count": null,
   "metadata": {},
   "outputs": [],
   "source": []
  },
  {
   "cell_type": "code",
   "execution_count": null,
   "metadata": {},
   "outputs": [],
   "source": []
  },
  {
   "cell_type": "code",
   "execution_count": null,
   "metadata": {},
   "outputs": [],
   "source": []
  },
  {
   "cell_type": "code",
   "execution_count": null,
   "metadata": {},
   "outputs": [],
   "source": []
  }
 ],
 "metadata": {
  "kernelspec": {
   "display_name": "Python 3",
   "language": "python",
   "name": "python3"
  },
  "language_info": {
   "codemirror_mode": {
    "name": "ipython",
    "version": 3
   },
   "file_extension": ".py",
   "mimetype": "text/x-python",
   "name": "python",
   "nbconvert_exporter": "python",
   "pygments_lexer": "ipython3",
   "version": "3.8.5"
  }
 },
 "nbformat": 4,
 "nbformat_minor": 4
}
